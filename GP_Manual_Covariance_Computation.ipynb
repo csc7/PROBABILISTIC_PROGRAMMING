{
 "cells": [
  {
   "cell_type": "code",
   "execution_count": null,
   "metadata": {},
   "outputs": [],
   "source": [
    "mean = np.mean(reflectivity[:, tr_i_for_cov].flatten())\n",
    "n = len(reflectivity[:, tr_i_for_cov].flatten())\n",
    "cov_matrix = np.zeros((n, n))\n",
    "print(cov_matrix.shape)\n",
    "\n",
    "for i in range (n):\n",
    "    for j in range (n):\n",
    "        cov_matrix[i, j] = (reflectivity[:, tr_i_for_cov].flatten()[i] - mean)*(reflectivity[:, tr_i_for_cov].flatten()[j]-mean) / (n-1)\n",
    "    print(f\"Loop {i}\")\n"
   ]
  }
 ],
 "metadata": {
  "language_info": {
   "name": "python"
  }
 },
 "nbformat": 4,
 "nbformat_minor": 2
}
